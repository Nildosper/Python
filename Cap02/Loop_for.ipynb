{
 "cells": [
  {
   "cell_type": "markdown",
   "source": [
    "# Loop For\r\n",
    "### Permite executar um comando ou um conjuto de comandos um número determinado de vezes "
   ],
   "metadata": {}
  },
  {
   "cell_type": "markdown",
   "source": [],
   "metadata": {}
  },
  {
   "cell_type": "code",
   "execution_count": 2,
   "source": [
    "# Criando uma tupla e imprimindo cada um dos valores\r\n",
    "tp=(1,2,3,4,5,6,7)\r\n",
    "for i in tp:\r\n",
    "    print(i)\r\n"
   ],
   "outputs": [
    {
     "output_type": "stream",
     "name": "stdout",
     "text": [
      "1\n",
      "2\n",
      "3\n",
      "4\n",
      "5\n",
      "6\n",
      "7\n"
     ]
    }
   ],
   "metadata": {}
  },
  {
   "cell_type": "code",
   "execution_count": 3,
   "source": [
    "# Criando uma lista e imprimindo cada um dos valores\r\n",
    "lista=['maça', 'banana', 123]\r\n",
    "for i in lista:\r\n",
    "    print(i)"
   ],
   "outputs": [
    {
     "output_type": "stream",
     "name": "stdout",
     "text": [
      "maça\n",
      "banana\n",
      "123\n"
     ]
    }
   ],
   "metadata": {}
  },
  {
   "cell_type": "code",
   "execution_count": 4,
   "source": [
    "# Imprimindo os valores no intervalo entre 0 e 10 (exclusive)\r\n",
    "for numero in range (0,10):\r\n",
    "    print(numero)"
   ],
   "outputs": [
    {
     "output_type": "stream",
     "name": "stdout",
     "text": [
      "0\n",
      "1\n",
      "2\n",
      "3\n",
      "4\n",
      "5\n",
      "6\n",
      "7\n",
      "8\n",
      "9\n"
     ]
    }
   ],
   "metadata": {}
  },
  {
   "cell_type": "code",
   "execution_count": 5,
   "source": [
    "# Imprimindo na tela os números pares da lista de números\r\n",
    "lista=[1,2,3,4,5,6,7,8,9,10]\r\n",
    "for num in lista:\r\n",
    "    if num % 2 == 0:\r\n",
    "        print (num)"
   ],
   "outputs": [
    {
     "output_type": "stream",
     "name": "stdout",
     "text": [
      "2\n",
      "4\n",
      "6\n",
      "8\n",
      "10\n"
     ]
    }
   ],
   "metadata": {}
  },
  {
   "cell_type": "code",
   "execution_count": 6,
   "source": [
    "# Listando os números no intervalo entre 0 e 100, com incremento em 5\r\n",
    "for i in range(0,105,5):  \r\n",
    "    print(i)"
   ],
   "outputs": [
    {
     "output_type": "stream",
     "name": "stdout",
     "text": [
      "0\n",
      "5\n",
      "10\n",
      "15\n",
      "20\n",
      "25\n",
      "30\n",
      "35\n",
      "40\n",
      "45\n",
      "50\n",
      "55\n",
      "60\n",
      "65\n",
      "70\n",
      "75\n",
      "80\n",
      "85\n",
      "90\n",
      "95\n",
      "100\n"
     ]
    }
   ],
   "metadata": {}
  },
  {
   "cell_type": "code",
   "execution_count": 7,
   "source": [
    "# Strings também são sequências\r\n",
    "for caracter in 'Olá, mundo!':\r\n",
    "    print (caracter)"
   ],
   "outputs": [
    {
     "output_type": "stream",
     "name": "stdout",
     "text": [
      "O\n",
      "l\n",
      "á\n",
      ",\n",
      " \n",
      "m\n",
      "u\n",
      "n\n",
      "d\n",
      "o\n",
      "!\n"
     ]
    }
   ],
   "metadata": {}
  },
  {
   "cell_type": "code",
   "execution_count": 8,
   "source": [
    "# Loops aninhados\r\n",
    "for i in range(0,3):\r\n",
    "    for b in range(0,5):\r\n",
    "        print(b)"
   ],
   "outputs": [
    {
     "output_type": "stream",
     "name": "stdout",
     "text": [
      "0\n",
      "1\n",
      "2\n",
      "3\n",
      "4\n",
      "0\n",
      "1\n",
      "2\n",
      "3\n",
      "4\n",
      "0\n",
      "1\n",
      "2\n",
      "3\n",
      "4\n"
     ]
    }
   ],
   "metadata": {}
  },
  {
   "cell_type": "code",
   "execution_count": 9,
   "source": [
    "# Operando os valores de uma lista com loop for\r\n",
    "listaB = [32,53,85,10,15,17,19]\r\n",
    "soma = 0\r\n",
    "for i in listaB:\r\n",
    "    double_i = i * 2\r\n",
    "    soma += double_i\r\n",
    "\r\n",
    "print(soma)"
   ],
   "outputs": [
    {
     "output_type": "stream",
     "name": "stdout",
     "text": [
      "462\n"
     ]
    }
   ],
   "metadata": {}
  },
  {
   "cell_type": "code",
   "execution_count": 10,
   "source": [
    "# Loops em listas aninhadas\r\n",
    "listas = [[1,2,3], [10,15,14], [10.1,8.7,2.3]]\r\n",
    "for valor in listas:\r\n",
    "    print(valor)"
   ],
   "outputs": [
    {
     "output_type": "stream",
     "name": "stdout",
     "text": [
      "[1, 2, 3]\n",
      "[10, 15, 14]\n",
      "[10.1, 8.7, 2.3]\n"
     ]
    }
   ],
   "metadata": {}
  },
  {
   "cell_type": "code",
   "execution_count": 11,
   "source": [
    "# Contando os itens de uma lista\r\n",
    "lista = [5,6,10,13,17]\r\n",
    "count = 0\r\n",
    "for item in lista:\r\n",
    "    count += 1\r\n",
    "    \r\n",
    "print(count)"
   ],
   "outputs": [
    {
     "output_type": "stream",
     "name": "stdout",
     "text": [
      "5\n"
     ]
    }
   ],
   "metadata": {}
  },
  {
   "cell_type": "code",
   "execution_count": 12,
   "source": [
    "# Contando o número de colunas\r\n",
    "lst = [[1,2,3],[3,4,5],[5,6,7]]\r\n",
    "primeira_linha = lst[0]\r\n",
    "count = 0\r\n",
    "for column in primeira_linha:\r\n",
    "    count = count + 1\r\n",
    "    \r\n",
    "print(count)"
   ],
   "outputs": [
    {
     "output_type": "stream",
     "name": "stdout",
     "text": [
      "3\n"
     ]
    }
   ],
   "metadata": {}
  },
  {
   "cell_type": "code",
   "execution_count": 13,
   "source": [
    "# Pesquisando em listas\r\n",
    "listaC = [5, 6, 7, 10, 50]\r\n",
    "\r\n",
    "# Loop através da lista\r\n",
    "for item in listaC:\r\n",
    "    if item == 5:\r\n",
    "        print(\"Número encontrado na lista!\")"
   ],
   "outputs": [
    {
     "output_type": "stream",
     "name": "stdout",
     "text": [
      "Número encontrado na lista!\n"
     ]
    }
   ],
   "metadata": {}
  },
  {
   "cell_type": "code",
   "execution_count": 1,
   "source": [
    "# Pesquisando em listas\r\n",
    "listaC = [5, 6, 7, 10, 50]\r\n",
    "\r\n",
    "# Loop através da lista\r\n",
    "for item in listaC:\r\n",
    "    if item == 6:\r\n",
    "        print(\"Número encontrado na lista!\")\r\n",
    "    else:\r\n",
    "        print('Número não encontrado')"
   ],
   "outputs": [
    {
     "output_type": "stream",
     "name": "stdout",
     "text": [
      "Número não encontrado\n",
      "Número encontrado na lista!\n",
      "Número não encontrado\n",
      "Número não encontrado\n",
      "Número não encontrado\n"
     ]
    }
   ],
   "metadata": {}
  },
  {
   "cell_type": "code",
   "execution_count": null,
   "source": [],
   "outputs": [],
   "metadata": {}
  }
 ],
 "metadata": {
  "orig_nbformat": 4,
  "language_info": {
   "name": "python",
   "version": "3.8.8",
   "mimetype": "text/x-python",
   "codemirror_mode": {
    "name": "ipython",
    "version": 3
   },
   "pygments_lexer": "ipython3",
   "nbconvert_exporter": "python",
   "file_extension": ".py"
  },
  "kernelspec": {
   "name": "python3",
   "display_name": "Python 3.8.8 64-bit"
  },
  "interpreter": {
   "hash": "733a9c67c6f9e7388a95b1fc0dfdb70af45686b213b10178d2fc42d7089766c8"
  }
 },
 "nbformat": 4,
 "nbformat_minor": 2
}