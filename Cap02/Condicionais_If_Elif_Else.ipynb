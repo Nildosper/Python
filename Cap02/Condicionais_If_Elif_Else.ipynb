{
 "cells": [
  {
   "cell_type": "markdown",
   "source": [
    "# Condicional If"
   ],
   "metadata": {}
  },
  {
   "cell_type": "code",
   "execution_count": 1,
   "source": [
    "#Condicional If - Equivale a \"se\"\r\n",
    "if 5 > 2:\r\n",
    "   print(\"Python funciona!\")"
   ],
   "outputs": [
    {
     "output_type": "stream",
     "name": "stdout",
     "text": [
      "Python funciona!\n"
     ]
    }
   ],
   "metadata": {}
  },
  {
   "cell_type": "code",
   "execution_count": 2,
   "source": [
    "#Condicional If - Equivale a \"se\"\r\n",
    "if 5>8:\r\n",
    "    print('Python funciona')"
   ],
   "outputs": [],
   "metadata": {}
  },
  {
   "cell_type": "code",
   "execution_count": 3,
   "source": [
    "# Pode-se usar a estrutura else - Equivale a 'senão'\r\n",
    "if 5>8:\r\n",
    "    print('Olá, mundo!')\r\n",
    "else:\r\n",
    "    print('Python é uma ótima linguagem')"
   ],
   "outputs": [
    {
     "output_type": "stream",
     "name": "stdout",
     "text": [
      "Python é uma ótima linguagem\n"
     ]
    }
   ],
   "metadata": {}
  },
  {
   "cell_type": "code",
   "execution_count": 3,
   "source": [
    "# Criando um condicioal if e imprimindo na tela \r\n",
    "idade=20\r\n",
    "if idade > 18:\r\n",
    "    print('Você pode dirigir!')"
   ],
   "outputs": [
    {
     "output_type": "stream",
     "name": "stdout",
     "text": [
      "Você pode dirigir!\n"
     ]
    }
   ],
   "metadata": {}
  },
  {
   "cell_type": "code",
   "execution_count": 9,
   "source": [
    "# Criando um condicional if e else e imprimindo na tela\r\n",
    "idade=15\r\n",
    "if idade > 18:\r\n",
    "    print('Você pode dirigir!')\r\n",
    "else:\r\n",
    "    print('Desclpa, você não pode dirigir!')\r\n",
    "\r\n"
   ],
   "outputs": [
    {
     "output_type": "stream",
     "name": "stdout",
     "text": [
      "Desclpa, você não pode dirigir!\n"
     ]
    }
   ],
   "metadata": {}
  },
  {
   "cell_type": "markdown",
   "source": [
    "## Condicionais Aninhados"
   ],
   "metadata": {}
  },
  {
   "cell_type": "code",
   "execution_count": 14,
   "source": [
    "#Criando um condicional if aninhado\r\n",
    "Nome='Paulo'\r\n",
    "Senha=1515\r\n",
    "if Senha==1515:\r\n",
    "    if Nome =='Paulo':\r\n",
    "        print('Acesso autorizado')"
   ],
   "outputs": [
    {
     "output_type": "stream",
     "name": "stdout",
     "text": [
      "Acesso autorizado\n"
     ]
    }
   ],
   "metadata": {}
  },
  {
   "cell_type": "code",
   "execution_count": 15,
   "source": [
    "#Criando um condicional if aninhado\r\n",
    "if Nome=='Paulo':\r\n",
    "    if Senha==1514:\r\n",
    "        print('Acesso autorizado')\r\n",
    "    else:\r\n",
    "        print('Acesso negado')"
   ],
   "outputs": [
    {
     "output_type": "stream",
     "name": "stdout",
     "text": [
      "Acesso negado\n"
     ]
    }
   ],
   "metadata": {}
  },
  {
   "cell_type": "code",
   "execution_count": 1,
   "source": [
    "# podemos utilizar os operadores booleanos ao invés de criar codicionais aninhados \r\n",
    "nome='João'\r\n",
    "senha=1234\r\n",
    "if nome =='João' and senha == 1234:\r\n",
    "    print('Acesso autorizado')"
   ],
   "outputs": [
    {
     "output_type": "stream",
     "name": "stdout",
     "text": [
      "Acesso autorizado\n"
     ]
    }
   ],
   "metadata": {}
  },
  {
   "cell_type": "code",
   "execution_count": 2,
   "source": [
    "# podemos utilizar os operadores booleanos ao invés de criar codicionais aninhados \r\n",
    "if nome=='João'and senha==1235:\r\n",
    "    print('Acesso autorizado')\r\n",
    "else:\r\n",
    "    print('Acesso negado')"
   ],
   "outputs": [
    {
     "output_type": "stream",
     "name": "stdout",
     "text": [
      "Acesso negado\n"
     ]
    }
   ],
   "metadata": {}
  },
  {
   "cell_type": "markdown",
   "source": [
    "## Elif\r\n",
    "### Tem como objetivo evitar a escrita de vários if aninhados "
   ],
   "metadata": {}
  },
  {
   "cell_type": "code",
   "execution_count": 3,
   "source": [
    "# Criando uma condicional\r\n",
    "dia = \"quarta\"\r\n",
    "if dia == \"Segunda\":\r\n",
    "    print(\"Hoje fará sol!\")\r\n",
    "else:\r\n",
    "    print(\"Hoje vai chover!\")"
   ],
   "outputs": [
    {
     "output_type": "stream",
     "name": "stdout",
     "text": [
      "Hoje vai chover!\n"
     ]
    }
   ],
   "metadata": {}
  },
  {
   "cell_type": "code",
   "execution_count": 4,
   "source": [
    "# Criando uma condicional elif\r\n",
    "if dia=='Segunda':\r\n",
    "    print('Hoje fará sol!')\r\n",
    "elif dia=='quarta':\r\n",
    "    print('Hoje vai chover!')\r\n",
    "else:\r\n",
    "    print('Nublado!')"
   ],
   "outputs": [
    {
     "output_type": "stream",
     "name": "stdout",
     "text": [
      "Hoje vai chover!\n"
     ]
    }
   ],
   "metadata": {}
  },
  {
   "cell_type": "code",
   "execution_count": 5,
   "source": [
    "# Criando uma condicional elif\r\n",
    "if dia=='Segunda':\r\n",
    "    print('Hoje fará sol!')\r\n",
    "elif dia=='sexta':\r\n",
    "    print('Hoje vai chover!')\r\n",
    "else:\r\n",
    "    print('Nublado!')"
   ],
   "outputs": [
    {
     "output_type": "stream",
     "name": "stdout",
     "text": [
      "Nublado!\n"
     ]
    }
   ],
   "metadata": {}
  },
  {
   "cell_type": "markdown",
   "source": [
    "# Operadores Lógicos (and/or/and not)"
   ],
   "metadata": {}
  },
  {
   "cell_type": "code",
   "execution_count": 6,
   "source": [
    "#Criando uma  condicional com operadores lógicos \r\n",
    "if senha==1234 and nome == \"João\":\r\n",
    "    print(\"Autorizado!\")"
   ],
   "outputs": [
    {
     "output_type": "stream",
     "name": "stdout",
     "text": [
      "Autorizado!\n"
     ]
    }
   ],
   "metadata": {}
  },
  {
   "cell_type": "code",
   "execution_count": 8,
   "source": [
    "#Criando uma  condicional com operadores lógicos \r\n",
    "if senha==123 or nome=='João':\r\n",
    "    print('Autorizado')"
   ],
   "outputs": [
    {
     "output_type": "stream",
     "name": "stdout",
     "text": [
      "Autorizado\n"
     ]
    }
   ],
   "metadata": {}
  },
  {
   "cell_type": "code",
   "execution_count": 11,
   "source": [
    "# Usando mais de uma condição na cláusula if \r\n",
    "Nome = input('Digite seu nome: ')\r\n",
    "Senha = input('Digite sua senha: ')\r\n",
    "if Nome == 'Maria' and Senha== '12345':\r\n",
    "    print('Acesso autorizado!')\r\n",
    "else:\r\n",
    "    print('Senha ou usuário incorreto!')"
   ],
   "outputs": [
    {
     "output_type": "stream",
     "name": "stdout",
     "text": [
      "Senha ou usuário incorreto!\n"
     ]
    }
   ],
   "metadata": {}
  },
  {
   "cell_type": "code",
   "execution_count": null,
   "source": [],
   "outputs": [],
   "metadata": {}
  }
 ],
 "metadata": {
  "orig_nbformat": 4,
  "language_info": {
   "name": "python",
   "version": "3.8.8",
   "mimetype": "text/x-python",
   "codemirror_mode": {
    "name": "ipython",
    "version": 3
   },
   "pygments_lexer": "ipython3",
   "nbconvert_exporter": "python",
   "file_extension": ".py"
  },
  "kernelspec": {
   "name": "python3",
   "display_name": "Python 3.8.8 64-bit"
  },
  "interpreter": {
   "hash": "733a9c67c6f9e7388a95b1fc0dfdb70af45686b213b10178d2fc42d7089766c8"
  }
 },
 "nbformat": 4,
 "nbformat_minor": 2
}