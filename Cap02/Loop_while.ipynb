{
 "cells": [
  {
   "cell_type": "markdown",
   "source": [
    "# Loop While\r\n",
    "### Usado para executar interação\r\n",
    "### Executa determinada ação 'ENQUANTO' uma condição nao for naão for estabelecida "
   ],
   "metadata": {}
  },
  {
   "cell_type": "code",
   "execution_count": 14,
   "source": [
    "# Usando o loop while para imprimir os valores de 0 a 9\r\n",
    "x=0\r\n",
    "while x<10:\r\n",
    "    print (x)\r\n",
    "    x=x+1"
   ],
   "outputs": [
    {
     "output_type": "stream",
     "name": "stdout",
     "text": [
      "0\n",
      "1\n",
      "2\n",
      "3\n",
      "4\n",
      "5\n",
      "6\n",
      "7\n",
      "8\n",
      "9\n"
     ]
    }
   ],
   "metadata": {}
  },
  {
   "cell_type": "code",
   "execution_count": null,
   "source": [
    "# Também é possível usar a claúsula else para encerrar o loop while\r\n",
    "x = 0\r\n",
    "while x<5:\r\n",
    "    print('O valor de x nessa interação:', x)\r\n",
    "    print('x ainda é menor que 5, somando 1 a x')\r\n",
    "    x=x+1\r\n",
    "else:\r\n",
    "    print('Loop cocluído!')"
   ],
   "outputs": [],
   "metadata": {}
  },
  {
   "cell_type": "markdown",
   "source": [
    "## Pass, Break, Continue\r\n",
    "### Usado para enterromper um loop while "
   ],
   "metadata": {}
  },
  {
   "cell_type": "code",
   "execution_count": null,
   "source": [
    "# Utlizando a palavra reservada break para iterromper um loop while\r\n",
    "x=0\r\n",
    "while x<100:\r\n",
    "    if x==12:\r\n",
    "        break\r\n",
    "    print(x)\r\n",
    "    x=x+1\r\n",
    "\r\n",
    "x=x+1"
   ],
   "outputs": [
    {
     "output_type": "stream",
     "name": "stdout",
     "text": [
      "0\n",
      "1\n",
      "2\n",
      "3\n",
      "4\n",
      "5\n",
      "6\n",
      "7\n",
      "8\n",
      "9\n",
      "10\n",
      "11\n"
     ]
    }
   ],
   "metadata": {}
  },
  {
   "cell_type": "code",
   "execution_count": null,
   "source": [],
   "outputs": [],
   "metadata": {}
  }
 ],
 "metadata": {
  "orig_nbformat": 4,
  "language_info": {
   "name": "python",
   "version": "3.8.8"
  },
  "kernelspec": {
   "name": "python3",
   "display_name": "Python 3.8.8 64-bit"
  },
  "interpreter": {
   "hash": "733a9c67c6f9e7388a95b1fc0dfdb70af45686b213b10178d2fc42d7089766c8"
  }
 },
 "nbformat": 4,
 "nbformat_minor": 2
}