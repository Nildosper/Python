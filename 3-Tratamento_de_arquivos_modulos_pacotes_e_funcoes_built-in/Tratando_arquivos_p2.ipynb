{
 "cells": [
  {
   "cell_type": "markdown",
   "source": [
    "# Manipulação de Arquivos"
   ],
   "metadata": {}
  },
  {
   "cell_type": "markdown",
   "source": [
    "* Arquivos TXT\r\n",
    "* Arquivos CSV \r\n",
    "* Arquivos JSON"
   ],
   "metadata": {}
  },
  {
   "cell_type": "markdown",
   "source": [],
   "metadata": {}
  },
  {
   "cell_type": "markdown",
   "source": [
    "## Manipulando Arquivos TXT"
   ],
   "metadata": {}
  },
  {
   "cell_type": "code",
   "execution_count": 3,
   "source": [
    "# Criando um arquivo de texto\r\n",
    "texto = \"Cientista de Dados é a profissão que mais tem crescido em todo mundo.\\n\"\r\n",
    "texto = texto + \"Esses profissionais precisam se especializar em Programação, Estatística e Machine Learning.\\n\"\r\n",
    "texto += \"E claro, em Big Data.\"\r\n"
   ],
   "outputs": [],
   "metadata": {}
  },
  {
   "cell_type": "code",
   "execution_count": null,
   "source": [
    "# imprimindo  o arquivo texto\r\n",
    "print(texto)"
   ],
   "outputs": [],
   "metadata": {}
  },
  {
   "cell_type": "markdown",
   "source": [],
   "metadata": {}
  }
 ],
 "metadata": {
  "orig_nbformat": 4,
  "language_info": {
   "name": "python",
   "version": "3.7.6",
   "mimetype": "text/x-python",
   "codemirror_mode": {
    "name": "ipython",
    "version": 3
   },
   "pygments_lexer": "ipython3",
   "nbconvert_exporter": "python",
   "file_extension": ".py"
  },
  "kernelspec": {
   "name": "python3",
   "display_name": "Python 3.7.6 64-bit ('base': conda)"
  },
  "interpreter": {
   "hash": "08371496c7b3b15e13ed184b9831b81c8e071be84cafb362c2aeccc8ee132252"
  }
 },
 "nbformat": 4,
 "nbformat_minor": 2
}