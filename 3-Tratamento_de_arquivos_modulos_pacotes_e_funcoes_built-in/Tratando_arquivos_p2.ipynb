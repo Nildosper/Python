{
 "cells": [
  {
   "cell_type": "markdown",
   "source": [
    "# Manipulação de Arquivos"
   ],
   "metadata": {}
  },
  {
   "cell_type": "markdown",
   "source": [
    "* Arquivos TXT\r\n",
    "* Arquivos CSV \r\n",
    "* Arquivos JSON"
   ],
   "metadata": {}
  },
  {
   "cell_type": "markdown",
   "source": [],
   "metadata": {}
  },
  {
   "cell_type": "markdown",
   "source": [
    "## Manipulando Arquivos TXT"
   ],
   "metadata": {}
  },
  {
   "cell_type": "code",
   "execution_count": 3,
   "source": [
    "# Criando um arquivo de texto\r\n",
    "texto = \"Cientista de Dados é a profissão que mais tem crescido em todo mundo.\\n\"\r\n",
    "texto = texto + \"Esses profissionais precisam se especializar em Programação, Estatística e Machine Learning.\\n\"\r\n",
    "texto += \"E claro, em Big Data.\"\r\n"
   ],
   "outputs": [],
   "metadata": {}
  },
  {
   "cell_type": "code",
   "execution_count": 4,
   "source": [
    "# imprimindo  o arquivo texto\r\n",
    "print(texto)"
   ],
   "outputs": [
    {
     "output_type": "stream",
     "name": "stdout",
     "text": [
      "Cientista de Dados é a profissão que mais tem crescido em todo mundo.\n",
      "Esses profissionais precisam se especializar em Programação, Estatística e Machine Learning.\n",
      "E claro, em Big Data.\n"
     ]
    }
   ],
   "metadata": {}
  },
  {
   "cell_type": "code",
   "execution_count": 5,
   "source": [
    "# Importando o módulo OS (operating system)\r\n",
    "import os"
   ],
   "outputs": [],
   "metadata": {}
  },
  {
   "cell_type": "code",
   "execution_count": 6,
   "source": [
    "# Criando um arquivo \r\n",
    "arquivo = open(os.path.join('arquivos/cientista.txt'),'w')"
   ],
   "outputs": [],
   "metadata": {}
  },
  {
   "cell_type": "code",
   "execution_count": 8,
   "source": [
    "# Gravando os dados no arquivo\r\n",
    "for palavra in texto.split():\r\n",
    "    arquivo.write(palavra +' ')"
   ],
   "outputs": [],
   "metadata": {}
  },
  {
   "cell_type": "code",
   "execution_count": 9,
   "source": [
    "# Fechando o arquivo\r\n",
    "arquivo.close()"
   ],
   "outputs": [],
   "metadata": {}
  },
  {
   "cell_type": "code",
   "execution_count": 10,
   "source": [
    "# Lendo o arquivo\r\n",
    "arquivo = open('arquivos/cientista.txt','r')\r\n",
    "conteudo = arquivo.read()\r\n",
    "arquivo.close()\r\n",
    "\r\n",
    "print(conteudo)"
   ],
   "outputs": [
    {
     "output_type": "stream",
     "name": "stdout",
     "text": [
      "Cientista de Dados é a profissão que mais tem crescido em todo mundo. Esses profissionais precisam se especializar em Programação, Estatística e Machine Learning. E claro, em Big Data. Cientista de Dados é a profissão que mais tem crescido em todo mundo. Esses profissionais precisam se especializar em Programação, Estatística e Machine Learning. E claro, em Big Data. \n"
     ]
    }
   ],
   "metadata": {}
  },
  {
   "cell_type": "markdown",
   "source": [],
   "metadata": {}
  },
  {
   "cell_type": "markdown",
   "source": [
    "## Usando a expressão `with` \r\n",
    "\r\n",
    "### O método close() é executado automaticamente"
   ],
   "metadata": {}
  },
  {
   "cell_type": "code",
   "execution_count": 11,
   "source": [
    "with open('arquivos/cientista.txt','r') as arquivo:\r\n",
    "    conteudo = arquivo.read()"
   ],
   "outputs": [],
   "metadata": {}
  },
  {
   "cell_type": "code",
   "execution_count": 12,
   "source": [
    "print(len(conteudo))"
   ],
   "outputs": [
    {
     "output_type": "stream",
     "name": "stdout",
     "text": [
      "370\n"
     ]
    }
   ],
   "metadata": {}
  },
  {
   "cell_type": "code",
   "execution_count": 13,
   "source": [
    "print(conteudo)"
   ],
   "outputs": [
    {
     "output_type": "stream",
     "name": "stdout",
     "text": [
      "Cientista de Dados é a profissão que mais tem crescido em todo mundo. Esses profissionais precisam se especializar em Programação, Estatística e Machine Learning. E claro, em Big Data. Cientista de Dados é a profissão que mais tem crescido em todo mundo. Esses profissionais precisam se especializar em Programação, Estatística e Machine Learning. E claro, em Big Data. \n"
     ]
    }
   ],
   "metadata": {}
  },
  {
   "cell_type": "markdown",
   "source": [],
   "metadata": {}
  },
  {
   "cell_type": "code",
   "execution_count": 14,
   "source": [
    "# fazendo um fatiamento do arquivo \r\n",
    "with open('arquivos/cientista.txt','w') as arquivo:\r\n",
    "    arquivo.write(texto[:21])\r\n",
    "    arquivo.write('\\n')\r\n",
    "    arquivo.write(texto[:33])"
   ],
   "outputs": [],
   "metadata": {}
  },
  {
   "cell_type": "code",
   "execution_count": 15,
   "source": [
    "# Lendo o arquivo\r\n",
    "arquivo = open('arquivos/cientista.txt','r')\r\n",
    "conteudo = arquivo.read()\r\n",
    "arquivo.close()\r\n",
    "\r\n",
    "print (conteudo)"
   ],
   "outputs": [
    {
     "output_type": "stream",
     "name": "stdout",
     "text": [
      "Cientista de Dados é \n",
      "Cientista de Dados é a profissão \n"
     ]
    }
   ],
   "metadata": {}
  },
  {
   "cell_type": "markdown",
   "source": [
    "## Manipulando Arquivos CSV (comma-separated values )"
   ],
   "metadata": {}
  },
  {
   "cell_type": "code",
   "execution_count": 16,
   "source": [
    "# Importando o módulo csv\r\n",
    "import csv"
   ],
   "outputs": [],
   "metadata": {}
  },
  {
   "cell_type": "code",
   "execution_count": 17,
   "source": [
    "with open('arquivos/numeros.csv','w') as arquivo:\r\n",
    "    writer = csv.writer(arquivo)\r\n",
    "    writer.writerow(('primeira','segunda','terceira'))\r\n",
    "    writer.writerow((55,93,76)) \r\n",
    "    writer.writerow((62,14,86))"
   ],
   "outputs": [],
   "metadata": {}
  },
  {
   "cell_type": "code",
   "execution_count": 20,
   "source": [
    "# Leitura de arquivos csv\r\n",
    "with open('arquivos/numeros.csv','r') as arquivo:\r\n",
    "    leitor = csv.reader(arquivo)\r\n",
    "    for x in leitor:\r\n",
    "        print ('Número de colunas:', len(x))\r\n",
    "        print(x)"
   ],
   "outputs": [
    {
     "output_type": "stream",
     "name": "stdout",
     "text": [
      "Número de colunas: 3\n",
      "['primeira', 'segunda', 'terceira']\n",
      "Número de colunas: 0\n",
      "[]\n",
      "Número de colunas: 3\n",
      "['55', '93', '76']\n",
      "Número de colunas: 0\n",
      "[]\n",
      "Número de colunas: 3\n",
      "['62', '14', '86']\n",
      "Número de colunas: 0\n",
      "[]\n"
     ]
    }
   ],
   "metadata": {}
  },
  {
   "cell_type": "code",
   "execution_count": 21,
   "source": [
    "# Código alternativo para eventuais problemas com linhas em branco no arquivo (encoding='utf8', newline = '\\r\\n')\r\n",
    "with open('arquivos/numeros.csv','r', encoding='utf8', newline = '\\r\\n') as arquivo:\r\n",
    "    leitor = csv.reader(arquivo)\r\n",
    "    for x in leitor:\r\n",
    "        print ('Número de colunas:', len(x))\r\n",
    "        print(x)"
   ],
   "outputs": [
    {
     "output_type": "stream",
     "name": "stdout",
     "text": [
      "Número de colunas: 3\n",
      "['primeira', 'segunda', 'terceira']\n",
      "Número de colunas: 3\n",
      "['55', '93', '76']\n",
      "Número de colunas: 3\n",
      "['62', '14', '86']\n"
     ]
    }
   ],
   "metadata": {}
  },
  {
   "cell_type": "code",
   "execution_count": 24,
   "source": [
    "# Gerando uma lista com dados do arquivo csv\r\n",
    "with open('arquivos/numeros.csv','r', encoding='utf8', newline = '\\r\\n') as arquivo:\r\n",
    "    leitor = csv.reader(arquivo)\r\n",
    "    dados = list(leitor)\r\n",
    "    \r\n",
    "    \r\n",
    "print (dados)"
   ],
   "outputs": [
    {
     "output_type": "stream",
     "name": "stdout",
     "text": [
      "[['primeira', 'segunda', 'terceira'], ['55', '93', '76'], ['62', '14', '86']]\n"
     ]
    }
   ],
   "metadata": {}
  },
  {
   "cell_type": "code",
   "execution_count": 25,
   "source": [
    "# Impriminfo a partir da segunda linha\r\n",
    "for linha in dados[1:]:\r\n",
    "    print (linha)"
   ],
   "outputs": [
    {
     "output_type": "stream",
     "name": "stdout",
     "text": [
      "['55', '93', '76']\n",
      "['62', '14', '86']\n"
     ]
    }
   ],
   "metadata": {}
  },
  {
   "cell_type": "markdown",
   "source": [
    "## Manipulando Arquivos JSON (Java Script Object Notation )\r\n",
    "* `JSON` (JavaScript Object Notation) é uma maneira de armazenar informações de forma organizada e de fácil acesso. Em poucas palavras, ele nos dá uma coleção legível de dados que podem ser acessados de forma muito lógica. Pode ser uma fonte de Big Data."
   ],
   "metadata": {}
  },
  {
   "cell_type": "code",
   "execution_count": 1,
   "source": [
    "# Criando um dicionário\r\n",
    "dict = {'nome': 'Nildo Pereira',\r\n",
    "        'linguagem': 'Python',\r\n",
    "        'similar': ['c','Modula-3','lisp'],\r\n",
    "        'users': 1000000}"
   ],
   "outputs": [],
   "metadata": {}
  },
  {
   "cell_type": "code",
   "execution_count": 2,
   "source": [
    "# imprimindo o dicionário\r\n",
    "for k,v in dict.items():\r\n",
    "    print (k,v)"
   ],
   "outputs": [
    {
     "output_type": "stream",
     "name": "stdout",
     "text": [
      "nome Guido van Rossum\n",
      "linguagem Python\n",
      "similar ['c', 'Modula-3', 'lisp']\n",
      "users 1000000\n"
     ]
    }
   ],
   "metadata": {}
  },
  {
   "cell_type": "code",
   "execution_count": 3,
   "source": [
    "# Importando o módulo Json\r\n",
    "import json"
   ],
   "outputs": [],
   "metadata": {}
  },
  {
   "cell_type": "code",
   "execution_count": 4,
   "source": [
    "# Convertendo o dicionário criado para um objeto Json\r\n",
    "json.dumps(dict)"
   ],
   "outputs": [
    {
     "output_type": "execute_result",
     "data": {
      "text/plain": [
       "'{\"nome\": \"Guido van Rossum\", \"linguagem\": \"Python\", \"similar\": [\"c\", \"Modula-3\", \"lisp\"], \"users\": 1000000}'"
      ]
     },
     "metadata": {},
     "execution_count": 4
    }
   ],
   "metadata": {}
  },
  {
   "cell_type": "code",
   "execution_count": 5,
   "source": [
    "# Criando um arquivo Json\r\n",
    "with open('arquivos/dados.json','w') as arquivo:\r\n",
    "    arquivo.write(json.dumps(dict))"
   ],
   "outputs": [],
   "metadata": {}
  },
  {
   "cell_type": "code",
   "execution_count": 6,
   "source": [
    "# Leitura de arquivos Json\r\n",
    "with open('arquivos/dados.json','r') as arquivo:\r\n",
    "    texto = arquivo.read()\r\n",
    "    data = json.loads(texto)"
   ],
   "outputs": [],
   "metadata": {}
  },
  {
   "cell_type": "code",
   "execution_count": 7,
   "source": [
    "# imprimindo a variável data\r\n",
    "print (data)"
   ],
   "outputs": [
    {
     "output_type": "stream",
     "name": "stdout",
     "text": [
      "{'nome': 'Guido van Rossum', 'linguagem': 'Python', 'similar': ['c', 'Modula-3', 'lisp'], 'users': 1000000}\n"
     ]
    }
   ],
   "metadata": {}
  },
  {
   "cell_type": "code",
   "execution_count": 8,
   "source": [
    "# Imprimindo um item do objeto json\r\n",
    "print (data['nome'])"
   ],
   "outputs": [
    {
     "output_type": "stream",
     "name": "stdout",
     "text": [
      "Guido van Rossum\n"
     ]
    }
   ],
   "metadata": {}
  },
  {
   "cell_type": "code",
   "execution_count": null,
   "source": [],
   "outputs": [],
   "metadata": {}
  }
 ],
 "metadata": {
  "orig_nbformat": 4,
  "language_info": {
   "name": "python",
   "version": "3.7.6",
   "mimetype": "text/x-python",
   "codemirror_mode": {
    "name": "ipython",
    "version": 3
   },
   "pygments_lexer": "ipython3",
   "nbconvert_exporter": "python",
   "file_extension": ".py"
  },
  "kernelspec": {
   "name": "python3",
   "display_name": "Python 3.7.6 64-bit ('base': conda)"
  },
  "interpreter": {
   "hash": "08371496c7b3b15e13ed184b9831b81c8e071be84cafb362c2aeccc8ee132252"
  }
 },
 "nbformat": 4,
 "nbformat_minor": 2
}