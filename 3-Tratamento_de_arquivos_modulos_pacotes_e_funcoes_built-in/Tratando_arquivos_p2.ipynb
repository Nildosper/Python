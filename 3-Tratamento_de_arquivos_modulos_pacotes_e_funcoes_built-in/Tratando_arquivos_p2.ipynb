{
 "cells": [
  {
   "cell_type": "markdown",
   "source": [
    "# Manipulação de Arquivos"
   ],
   "metadata": {}
  },
  {
   "cell_type": "markdown",
   "source": [
    "* Arquivos TXT\r\n",
    "* Arquivos CSV \r\n",
    "* Arquivos JSON"
   ],
   "metadata": {}
  },
  {
   "cell_type": "markdown",
   "source": [],
   "metadata": {}
  }
 ],
 "metadata": {
  "orig_nbformat": 4,
  "language_info": {
   "name": "python"
  }
 },
 "nbformat": 4,
 "nbformat_minor": 2
}