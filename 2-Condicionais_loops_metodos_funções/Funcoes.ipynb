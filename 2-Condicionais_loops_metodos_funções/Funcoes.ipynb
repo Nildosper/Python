{
 "cells": [
  {
   "cell_type": "markdown",
   "source": [
    "# Funções\r\n",
    "\r\n",
    "### São dispositivos que agrupam um conjunto de instruções para que elas possam ser executadas mais de uma vez\r\n",
    "### Permitem reutilizar códigos sem ter que reescrever \r\n",
    "\r\n",
    "### **Formato geral de uma função**\r\n",
    "###        *def* nome da função (*argumentos*)\r\n",
    "###         #Na sequência podemos colocar comentários para explicar a função\r\n",
    "###            <código>\r\n",
    "###         <retorno da função>"
   ],
   "metadata": {}
  },
  {
   "cell_type": "markdown",
   "source": [],
   "metadata": {}
  },
  {
   "cell_type": "code",
   "execution_count": 1,
   "source": [
    "# Criando uma primeira função \r\n",
    "def primeirafunc ():\r\n",
    "    print('Olá, mundo!')\r\n"
   ],
   "outputs": [],
   "metadata": {}
  },
  {
   "cell_type": "code",
   "execution_count": 2,
   "source": [
    "# Imprimindo primeirafunc\r\n",
    "primeirafunc()"
   ],
   "outputs": [
    {
     "output_type": "stream",
     "name": "stdout",
     "text": [
      "Olá, mundo!\n"
     ]
    }
   ],
   "metadata": {}
  },
  {
   "cell_type": "code",
   "execution_count": 4,
   "source": [
    "# Definindo uma função com parâmetro\r\n",
    "def segundafunc (nome):\r\n",
    "    print('Olá, %s' %(nome))"
   ],
   "outputs": [],
   "metadata": {}
  },
  {
   "cell_type": "code",
   "execution_count": 5,
   "source": [
    "# Imprimindo segundafunc\r\n",
    "segundafunc('Nicolle')"
   ],
   "outputs": [
    {
     "output_type": "stream",
     "name": "stdout",
     "text": [
      "Olá, Nicolle\n"
     ]
    }
   ],
   "metadata": {}
  },
  {
   "cell_type": "code",
   "execution_count": 11,
   "source": [
    "# Criando uma função para leitura\r\n",
    "def funcleitura():\r\n",
    "    for i in range (0,5):\r\n",
    "        print ('Número ' + str (i)) "
   ],
   "outputs": [],
   "metadata": {}
  },
  {
   "cell_type": "code",
   "execution_count": 12,
   "source": [
    "# Imprimindo funcleitura\r\n",
    "funcleitura()"
   ],
   "outputs": [
    {
     "output_type": "stream",
     "name": "stdout",
     "text": [
      "Número 0\n",
      "Número 1\n",
      "Número 2\n",
      "Número 3\n",
      "Número 4\n"
     ]
    }
   ],
   "metadata": {}
  },
  {
   "cell_type": "code",
   "execution_count": 21,
   "source": [
    "# Função para somar números \r\n",
    "def num (num1, num2):\r\n",
    "    print('Número 1: '+ str(num1))\r\n",
    "    print(\"Número 2: \" + str(num2))\r\n",
    "    print ('Soma:', num1+num2)\r\n"
   ],
   "outputs": [],
   "metadata": {}
  },
  {
   "cell_type": "code",
   "execution_count": 22,
   "source": [
    "# Chamando a função e passando parâmetros\r\n",
    "num(10,10)"
   ],
   "outputs": [
    {
     "output_type": "stream",
     "name": "stdout",
     "text": [
      "Número 1: 10\n",
      "Número 2: 10\n",
      "Soma: 20\n"
     ]
    }
   ],
   "metadata": {}
  },
  {
   "cell_type": "markdown",
   "source": [
    "## Variáveis locais e globais"
   ],
   "metadata": {}
  },
  {
   "cell_type": "code",
   "execution_count": null,
   "source": [],
   "outputs": [],
   "metadata": {}
  }
 ],
 "metadata": {
  "orig_nbformat": 4,
  "language_info": {
   "name": "python",
   "version": "3.8.8",
   "mimetype": "text/x-python",
   "codemirror_mode": {
    "name": "ipython",
    "version": 3
   },
   "pygments_lexer": "ipython3",
   "nbconvert_exporter": "python",
   "file_extension": ".py"
  },
  "kernelspec": {
   "name": "python3",
   "display_name": "Python 3.8.8 64-bit"
  },
  "interpreter": {
   "hash": "733a9c67c6f9e7388a95b1fc0dfdb70af45686b213b10178d2fc42d7089766c8"
  }
 },
 "nbformat": 4,
 "nbformat_minor": 2
}