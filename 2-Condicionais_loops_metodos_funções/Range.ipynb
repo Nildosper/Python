{
 "cells": [
  {
   "cell_type": "markdown",
   "source": [
    "# Range"
   ],
   "metadata": {}
  },
  {
   "cell_type": "markdown",
   "source": [
    "### Permite criar uma lista de números em intervalos específicos \r\n",
    "### Formação da **Função** *range()*\r\n",
    "### *range([start][stop][step])*\r\n",
    "### * start - número que inicia a sequência\r\n",
    "### * stop - número que encerra a sequência\r\n",
    "### * step - diferença entre cada número da sequência\r\n",
    "### *range([50][101][2])* obs: o número *stop* não é impresso"
   ],
   "metadata": {}
  },
  {
   "cell_type": "markdown",
   "source": [],
   "metadata": {}
  },
  {
   "cell_type": "code",
   "execution_count": 2,
   "source": [
    "# Imprimindo números pares entre 50 e 101\r\n",
    "for i in range(50, 101, 5):\r\n",
    "    print(i)"
   ],
   "outputs": [
    {
     "output_type": "stream",
     "name": "stdout",
     "text": [
      "50\n",
      "55\n",
      "60\n",
      "65\n",
      "70\n",
      "75\n",
      "80\n",
      "85\n",
      "90\n",
      "95\n",
      "100\n"
     ]
    }
   ],
   "metadata": {}
  },
  {
   "cell_type": "code",
   "execution_count": null,
   "source": [
    "for i in range(3, 6):\r\n",
    "    print (i)"
   ],
   "outputs": [],
   "metadata": {}
  },
  {
   "cell_type": "code",
   "execution_count": null,
   "source": [
    "for i in range(0, -20, -2):\r\n",
    "    print(i)"
   ],
   "outputs": [],
   "metadata": {}
  },
  {
   "cell_type": "code",
   "execution_count": null,
   "source": [
    "lista = ['Morango', 'Banana', 'Abacaxi', 'Uva']\r\n",
    "lista_tamanho = len(lista)\r\n",
    "for i in range(0, lista_tamanho):\r\n",
    "    print(lista[i])"
   ],
   "outputs": [],
   "metadata": {}
  }
 ],
 "metadata": {
  "orig_nbformat": 4,
  "language_info": {
   "name": "python",
   "version": "3.8.8",
   "mimetype": "text/x-python",
   "codemirror_mode": {
    "name": "ipython",
    "version": 3
   },
   "pygments_lexer": "ipython3",
   "nbconvert_exporter": "python",
   "file_extension": ".py"
  },
  "kernelspec": {
   "name": "python3",
   "display_name": "Python 3.8.8 64-bit"
  },
  "interpreter": {
   "hash": "733a9c67c6f9e7388a95b1fc0dfdb70af45686b213b10178d2fc42d7089766c8"
  }
 },
 "nbformat": 4,
 "nbformat_minor": 2
}