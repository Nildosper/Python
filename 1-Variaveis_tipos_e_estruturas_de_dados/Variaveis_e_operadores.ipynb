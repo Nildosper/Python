{
 "cells": [
  {
   "cell_type": "markdown",
   "source": [
    "# Variáveis e operadores "
   ],
   "metadata": {}
  },
  {
   "cell_type": "markdown",
   "source": [],
   "metadata": {}
  },
  {
   "cell_type": "code",
   "execution_count": null,
   "source": [
    "# Criando uma variável\r\n",
    "Var_test=20\r\n"
   ],
   "outputs": [],
   "metadata": {}
  },
  {
   "cell_type": "code",
   "execution_count": null,
   "source": [
    "# Imprimindo o valor da variável VAr_test\r\n",
    "Var_test"
   ],
   "outputs": [],
   "metadata": {}
  },
  {
   "cell_type": "code",
   "execution_count": null,
   "source": [
    "#identificando o tipo de número da variável Var_test\r\n",
    "type(Var_test)"
   ],
   "outputs": [],
   "metadata": {}
  },
  {
   "cell_type": "markdown",
   "source": [
    "# Variáveis com declarações múltiplas "
   ],
   "metadata": {}
  },
  {
   "cell_type": "code",
   "execution_count": null,
   "source": [
    "#Definindo uma variável múltipla \r\n",
    "pessoa1, pessoa2, pessoa3= 'Jõao', 'Maria', 'Jose'"
   ],
   "outputs": [],
   "metadata": {}
  },
  {
   "cell_type": "code",
   "execution_count": null,
   "source": [
    "#Imprimindo \r\n",
    "pessoa1"
   ],
   "outputs": [],
   "metadata": {}
  },
  {
   "cell_type": "code",
   "execution_count": null,
   "source": [
    "#Imprimindo\r\n",
    "pessoa2"
   ],
   "outputs": [],
   "metadata": {}
  },
  {
   "cell_type": "code",
   "execution_count": null,
   "source": [
    "#Imprimindo\r\n",
    "pessoa3"
   ],
   "outputs": [],
   "metadata": {}
  },
  {
   "cell_type": "code",
   "execution_count": null,
   "source": [
    "# ATENÇÃO! Python é case-sensitive. A variável pessoa1 é diferente de Pessoa2.\r\n",
    "# Letras maiúsculas e minúsculas tem diferença no nome da variável.\r\n",
    "Pessoa1"
   ],
   "outputs": [],
   "metadata": {}
  },
  {
   "cell_type": "code",
   "execution_count": null,
   "source": [
    "# Pode-se usar letras, números e underline (mas não se pode começar com números)\r\n",
    "\r\n",
    "## Não se pode usar palavras reservadas como nome de variável\r\n",
    "\r\n",
    "## False      \r\n",
    "## class      \r\n",
    "## finally    \r\n",
    "## is         \r\n",
    "## return\r\n",
    "## None       \r\n",
    "## continue   \r\n",
    "## for        \r\n",
    "## lambda     \r\n",
    "## try\r\n",
    "## True       \r\n",
    "## def        \r\n",
    "## from       \r\n",
    "## nonlocal   \r\n",
    "## while\r\n",
    "## and        \r\n",
    "## del        \r\n",
    "## global     \r\n",
    "## not        \r\n",
    "## with\r\n",
    "## as         \r\n",
    "## elif       \r\n",
    "## if         \r\n",
    "## or         \r\n",
    "## yield\r\n",
    "## assert     \r\n",
    "## else       \r\n",
    "## import     \r\n",
    "## pass\r\n"
   ],
   "outputs": [],
   "metadata": {}
  },
  {
   "cell_type": "markdown",
   "source": [
    "# Variáveis atribuídas a outras variáveis "
   ],
   "metadata": {}
  },
  {
   "cell_type": "code",
   "execution_count": 14,
   "source": [
    "#Calculando a área de um quadrado (area=base*altura)\r\n",
    "##criando a variável base \r\n",
    "base=10"
   ],
   "outputs": [],
   "metadata": {}
  },
  {
   "cell_type": "code",
   "execution_count": 13,
   "source": [
    "#criando a variável altura \r\n",
    "altura=10"
   ],
   "outputs": [],
   "metadata": {}
  },
  {
   "cell_type": "code",
   "execution_count": 15,
   "source": [
    "#Criando uma variável por atribuição\r\n",
    "area=base*altura"
   ],
   "outputs": [],
   "metadata": {}
  },
  {
   "cell_type": "code",
   "execution_count": 16,
   "source": [
    "#imprimindo a variável area\r\n",
    "area"
   ],
   "outputs": [
    {
     "output_type": "execute_result",
     "data": {
      "text/plain": [
       "100"
      ]
     },
     "metadata": {},
     "execution_count": 16
    }
   ],
   "metadata": {}
  },
  {
   "cell_type": "markdown",
   "source": [
    "# Outras operações "
   ],
   "metadata": {}
  },
  {
   "cell_type": "markdown",
   "source": [],
   "metadata": {}
  },
  {
   "cell_type": "code",
   "execution_count": 20,
   "source": [
    "#criando a varável\r\n",
    "altura1=180"
   ],
   "outputs": [],
   "metadata": {}
  },
  {
   "cell_type": "code",
   "execution_count": 21,
   "source": [
    "#criando a variável\r\n",
    "altura2=120"
   ],
   "outputs": [],
   "metadata": {}
  },
  {
   "cell_type": "code",
   "execution_count": 22,
   "source": [
    "#soma das variáveis altura1 e altura2\r\n",
    "altura1+altura2"
   ],
   "outputs": [
    {
     "output_type": "execute_result",
     "data": {
      "text/plain": [
       "300"
      ]
     },
     "metadata": {},
     "execution_count": 22
    }
   ],
   "metadata": {}
  },
  {
   "cell_type": "code",
   "execution_count": 23,
   "source": [
    "#subrtração das variáveis altura1 e altura2\r\n",
    "altura1-altura2"
   ],
   "outputs": [
    {
     "output_type": "execute_result",
     "data": {
      "text/plain": [
       "60"
      ]
     },
     "metadata": {},
     "execution_count": 23
    }
   ],
   "metadata": {}
  },
  {
   "cell_type": "code",
   "execution_count": 24,
   "source": [
    "#multiplicação das variáveis altura1 e altura2\r\n",
    "altura1*altura2"
   ],
   "outputs": [
    {
     "output_type": "execute_result",
     "data": {
      "text/plain": [
       "21600"
      ]
     },
     "metadata": {},
     "execution_count": 24
    }
   ],
   "metadata": {}
  },
  {
   "cell_type": "markdown",
   "source": [
    "# Concatenação de Variáveis"
   ],
   "metadata": {}
  },
  {
   "cell_type": "code",
   "execution_count": 38,
   "source": [
    "#criando a variável nome \r\n",
    "nome = \"Paulo\""
   ],
   "outputs": [],
   "metadata": {}
  },
  {
   "cell_type": "code",
   "execution_count": 39,
   "source": [
    "#Criando a variável sobrenome\r\n",
    "sobrenome = \"Silva\""
   ],
   "outputs": [],
   "metadata": {}
  },
  {
   "cell_type": "code",
   "execution_count": 40,
   "source": [
    "#Concatenando as variáveis nome e sobrenome\r\n",
    "nome_completo= nome+' '+ sobrenome"
   ],
   "outputs": [],
   "metadata": {}
  },
  {
   "cell_type": "code",
   "execution_count": 41,
   "source": [
    "#Imprimindo a variável nome_completo\r\n",
    "nome_completo"
   ],
   "outputs": [
    {
     "output_type": "execute_result",
     "data": {
      "text/plain": [
       "'nome sobrenome'"
      ]
     },
     "metadata": {},
     "execution_count": 41
    }
   ],
   "metadata": {}
  },
  {
   "cell_type": "code",
   "execution_count": null,
   "source": [],
   "outputs": [],
   "metadata": {}
  }
 ],
 "metadata": {
  "orig_nbformat": 4,
  "language_info": {
   "name": "python",
   "version": "3.8.8",
   "mimetype": "text/x-python",
   "codemirror_mode": {
    "name": "ipython",
    "version": 3
   },
   "pygments_lexer": "ipython3",
   "nbconvert_exporter": "python",
   "file_extension": ".py"
  },
  "kernelspec": {
   "name": "python3",
   "display_name": "Python 3.8.8 64-bit"
  },
  "interpreter": {
   "hash": "733a9c67c6f9e7388a95b1fc0dfdb70af45686b213b10178d2fc42d7089766c8"
  }
 },
 "nbformat": 4,
 "nbformat_minor": 2
}